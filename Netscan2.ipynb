{
 "cells": [
  {
   "cell_type": "code",
   "execution_count": 1,
   "metadata": {},
   "outputs": [],
   "source": [
    "import psycopg2\n",
    "# Connect to an existing database\n",
    "conn = psycopg2.connect(\"dbname='bt' user='postgres' host='localhost' password='severo' port='5432'\")\n",
    "\n",
    "# Open a cursor to perform database operations\n",
    "cur = conn.cursor()\n",
    "\n",
    "# Execute a command: this creates a new table\n",
    "cur.execute(\"select m.tid,m.time,m.edge_id from matched_tracks m where m.tid<=1 order by m.tid,m.time;\")\n",
    "matched_tracks = cur.fetchall()\n",
    "cur.execute(\"select distinct edge_id from matched_tracks where tid<=1 order by edge_id asc\")\n",
    "egde_ids = cur.fetchall()\n",
    "cur.execute(\"select i.tid,i.start_time,i.end_time,EXTRACT(EPOCH FROM (i.end_time::timestamp - i.start_time::timestamp)) from ib_stops_carlos i where i.tid<=1 order by i.tid, start_time;\")\n",
    "stops = cur.fetchall()\n",
    "# Pass data to fill a query placeholders and let Psycopg perform\n",
    "# the correct conversion (no more SQL injections!)\n",
    "#>>> cur.execute(\"INSERT INTO test (num, data) VALUES (%s, %s)\",\n",
    "#...      (100, \"abc'def\"))\n",
    "\n",
    "# Query the database and obtain data as Python objects\n",
    "#>>> cur.execute(\"SELECT * FROM test;\")\n",
    "#>>> cur.fetchone()\n",
    "#(1, 100, \"abc'def\")\n",
    "\n",
    "# Make the changes to the database persistent\n",
    "#>>> conn.commit()\n",
    "\n",
    "# Close communication with the database\n",
    "cur.close()\n",
    "\n",
    "conn.close()"
   ]
  },
  {
   "cell_type": "code",
   "execution_count": 2,
   "metadata": {},
   "outputs": [],
   "source": [
    "# função que verificar se um ponto é um stop.\n",
    "def verifica(ponto,stops):\n",
    "    for stop in stops:\n",
    "        if ponto[0]==stop[0] and ponto[1]==stop[1]:\n",
    "            return stop[3]\n",
    "    return -1     "
   ]
  },
  {
   "cell_type": "code",
   "execution_count": 3,
   "metadata": {},
   "outputs": [],
   "source": [
    "# Encrontando as trajetorias.\n",
    "trajetorias = list()\n",
    "trajetoria = list()\n",
    "taxi_id = 1\n",
    "\n",
    "for ponto in matched_tracks:\n",
    "    if ponto[0]==taxi_id:\n",
    "        diferenca=verifica([ponto[0],ponto[1]],stops)\n",
    "        if diferenca==-1:\n",
    "            trajetoria.append(ponto)\n",
    "        else:\n",
    "            trajetoria.append(ponto)\n",
    "            if diferenca > 120:\n",
    "                trajetorias.append(trajetoria)\n",
    "                trajetoria = list()\n",
    "    else:\n",
    "        trajetorias.append(trajetoria)\n",
    "        trajetoria = list()\n",
    "        trajetoria.append(ponto)\n",
    "        taxi_id=taxi_id+1     "
   ]
  },
  {
   "cell_type": "code",
   "execution_count": 4,
   "metadata": {},
   "outputs": [],
   "source": [
    "# Criando dicionário para mapeamento dos egde_ids para os indices da matriz m:\n",
    "dicionario1=dict()\n",
    "indice=0\n",
    "for egde_id in egde_ids:\n",
    "    dicionario1[egde_id[0]]=indice\n",
    "    indice=indice+1\n",
    "# Criando dicionário para o mapeamento dos indices da matriz para os egdes_ids:\n",
    "dicionario2 = dict()\n",
    "for i in egde_ids:\n",
    "    d=dicionario1[i[0]]\n",
    "    dicionario2[d]=i[0]"
   ]
  },
  {
   "cell_type": "code",
   "execution_count": 30,
   "metadata": {},
   "outputs": [],
   "source": [
    "# Criando a matriz de transições:\n",
    "import numpy as np\n",
    "k=len(dicionario1)\n",
    "m =np.zeros( (k,k),dtype=np.int32)"
   ]
  },
  {
   "cell_type": "code",
   "execution_count": 31,
   "metadata": {},
   "outputs": [],
   "source": [
    "# Contando quantas transições exites de cada egde_id para outro:\n",
    "for traj in trajetorias:\n",
    "    c = len(traj)\n",
    "    for i in range(0,c-1):\n",
    "        if traj[i][2] != traj[i+1][2]:\n",
    "            d1=dicionario1[traj[i][2]]\n",
    "            d2=dicionario1[traj[i+1][2]]\n",
    "            m[d1][d2]=m[d1][d2]+1"
   ]
  },
  {
   "cell_type": "code",
   "execution_count": 7,
   "metadata": {},
   "outputs": [],
   "source": [
    "def not_marked(m,a):\n",
    "    for n in m:\n",
    "        for i in n:\n",
    "            if i > 0 and i>=a:\n",
    "                return True\n",
    "    return False\n",
    "\n",
    "def maximo(m,c):\n",
    "    l=0\n",
    "    f=0\n",
    "    for i in range(0,c):\n",
    "        for j in range(0,c):\n",
    "            if m[i][j]>m[l][f]:\n",
    "                l=i\n",
    "                f=j\n",
    "    return [l,f]\n",
    "\n",
    "def marking(a):\n",
    "    if a>0:\n",
    "        return -1*a\n",
    "    return a\n",
    "\n",
    "def not_marked_2(m,d,f,a,e,c):\n",
    "    u=-1\n",
    "    minimo=100000\n",
    "    for i in range(0,c):\n",
    "        if m[f][i]>=a:\n",
    "            if abs(m[d][f]-m[f][i]) < minimo and abs(m[d][f]-m[f][i])<=e:\n",
    "                minimo = abs(m[d][f]-m[f][i])\n",
    "                u=i\n",
    "    return u\n",
    "\n",
    "def not_marked_3(m,d,f,a,e,c):\n",
    "    u=-1\n",
    "    minimo=1000000\n",
    "    for i in range(0,c):\n",
    "        if m[i][d]>=a:\n",
    "            if abs(m[d][f]-m[u][d])<minimo and abs(m[d][f]-m[u][d])<=e:\n",
    "                minimo=abs(m[d][f]-m[u][d])\n",
    "                u=i\n",
    "    return u"
   ]
  },
  {
   "cell_type": "code",
   "execution_count": 23,
   "metadata": {},
   "outputs": [],
   "source": [
    "def netscan_phase_1(dicionario2,m,e,a):\n",
    "    O=set()\n",
    "    k=0\n",
    "    C=list()\n",
    "    while not_marked(m,a):\n",
    "        indices=maximo(m, len(dicionario2))\n",
    "        d=indices[0]\n",
    "        f=indices[1]\n",
    "        Sd=dicionario2[d]\n",
    "        Sf=dicionario2[f]\n",
    "        C.append([Sd,Sf])\n",
    "        m[d][f]=marking(m[d][f])\n",
    "        u=not_marked_2(m,d,f,a,e,len(dicionario2))\n",
    "        while u>-1:\n",
    "            Su=dicionario2[u]\n",
    "            C[k].append(u)\n",
    "            m[f][u]=marking(m[f][u])\n",
    "            d=f\n",
    "            f=u\n",
    "            u=not_marked_2(m,d,f,a,e,len(dicionario2))\n",
    "        u=not_marked_3(m,d,f,a,e,len(dicionario2))\n",
    "        while u>-1:\n",
    "            Su=dicionario2[u]\n",
    "            C[k].append(Su)\n",
    "            m[u][d]=marking(m[u][d])\n",
    "            f=d\n",
    "            d=u\n",
    "            u=not_marked_3(m,d,f,a,e,len(dicionario2))\n",
    "        k=k+1\n",
    "    return C"
   ]
  },
  {
   "cell_type": "code",
   "execution_count": 32,
   "metadata": {},
   "outputs": [],
   "source": [
    "C=netscan_phase_1(dicionario2,m,10,1)"
   ]
  },
  {
   "cell_type": "code",
   "execution_count": 33,
   "metadata": {},
   "outputs": [
    {
     "name": "stdout",
     "output_type": "stream",
     "text": [
      "[25649, 5299, 39, 218, 80, 218, 81, 218, 219, 216, 217, 3, 4, 45, 74, 77, 76, 194, 68, 63, 64, 65, 66, 67, 144, 145, 146, 22, 23, 24, 42, 135, 136, 137, 138, 139, 140, 141, 142, 143, 85, 86, 41, 148, 149, 150, 83, 3, 82, 3, 83, 151, 118, 62, 25, 26, 158, 168, 159, 0, 1, 2, 120, 160, 161, 162, 163, 198, 157, 60, 61, 58, 62, 119, 195, 196, 164, 197, 152, 93, 94, 95, 5, 153, 154, 62, 129, 133, 132, 130, 131, 34, 35, 36, 134, 177, 43, 44, 176, 147, 235, 58, 235, 59, 235, 75, 69, 70, 71, 72, 73, 78, 236, 237, 10, 11, 37, 184, 191, 193, 187, 155, 178, 179, 188, 182, 200, 183, 185, 180, 181, 156, 192, 186, 189, 190, 20, 21, 201, 202, 203, 204, 205, 206, 207, 208, 209, 210, 211, 212, 213, 214, 215, 221, 222, 223, 225, 226, 227, 228, 238, 232, 30, 230, 31, 32, 230, 231, 33, 224, 6, 12, 13, 14, 229, 14, 3406, 3405, 64140]\n",
      "[5299, 25649]\n",
      "[14029, 38066, 49, 50, 91, 92, 51, 96, 52, 53, 54, 55, 98, 56, 98, 57, 98, 99, 84]\n",
      "[38074, 14029, 115, 29802, 9494, 25370, 38076, 38075, 14029, 38065, 38064, 38063, 38058, 38040, 38039, 38041, 38044, 3409, 14028, 14027, 3407, 14026, 60832, 64140]\n",
      "[2926, 55322, 175, 8, 9, 101, 169, 170, 171, 172, 173, 123, 124, 125, 126, 127, 128]\n",
      "[3408, 14027, 18]\n",
      "[3609, 29913, 29997]\n",
      "[5194, 70495, 165]\n",
      "[5194, 70496, 234, 30]\n",
      "[14034, 29809, 54]\n",
      "[26934, 5194]\n",
      "[29922, 34937, 7]\n",
      "[38066, 38074]\n",
      "[50810, 50811, 103]\n",
      "[57145, 50810]\n"
     ]
    }
   ],
   "source": [
    "for c in C:\n",
    "    print(c)"
   ]
  },
  {
   "cell_type": "code",
   "execution_count": 34,
   "metadata": {},
   "outputs": [
    {
     "name": "stdout",
     "output_type": "stream",
     "text": [
      "[[ 0 -1  0 ...  0  0  0]\n",
      " [ 0  0 -1 ...  0  0  0]\n",
      " [ 0  0  0 ...  0  0  0]\n",
      " ...\n",
      " [ 0  0  0 ...  0 -1  0]\n",
      " [ 0  0  0 ...  0  0  0]\n",
      " [ 0  0  0 ...  0  0  0]]\n"
     ]
    }
   ],
   "source": [
    "print(m)"
   ]
  },
  {
   "cell_type": "code",
   "execution_count": 13,
   "metadata": {},
   "outputs": [
    {
     "name": "stdout",
     "output_type": "stream",
     "text": [
      "159\n"
     ]
    }
   ],
   "source": [
    "import math\n",
    "raiz=math.ceil(math.sqrt(count))\n",
    "print(raiz)"
   ]
  },
  {
   "cell_type": "code",
   "execution_count": 15,
   "metadata": {},
   "outputs": [],
   "source": [
    "n =np.zeros( (raiz,raiz),dtype=np.int32)"
   ]
  },
  {
   "cell_type": "code",
   "execution_count": 19,
   "metadata": {},
   "outputs": [],
   "source": [
    "dicionario3=dict()\n",
    "l=0\n",
    "c=0\n",
    "for i in range(0,k):\n",
    "    for j in range(0,k):\n",
    "        if m[i][j] !=0:\n",
    "            n[l][c]=m[i][j]\n",
    "            dicionario3[(l,c)]=(i,j)\n",
    "            c=c+1\n",
    "            if c==raiz:\n",
    "                c=0\n",
    "                l=l+1"
   ]
  },
  {
   "cell_type": "code",
   "execution_count": 22,
   "metadata": {},
   "outputs": [
    {
     "name": "stdout",
     "output_type": "stream",
     "text": [
      "30\n"
     ]
    }
   ],
   "source": [
    "maxi=n[0][0]\n",
    "for t in n:\n",
    "    for i in t:\n",
    "        if i>maxi:\n",
    "            maxi= i\n",
    "print(maxi)"
   ]
  },
  {
   "cell_type": "code",
   "execution_count": null,
   "metadata": {},
   "outputs": [],
   "source": []
  }
 ],
 "metadata": {
  "kernelspec": {
   "display_name": "Python 3",
   "language": "python",
   "name": "python3"
  },
  "language_info": {
   "codemirror_mode": {
    "name": "ipython",
    "version": 3
   },
   "file_extension": ".py",
   "mimetype": "text/x-python",
   "name": "python",
   "nbconvert_exporter": "python",
   "pygments_lexer": "ipython3",
   "version": "3.6.5"
  }
 },
 "nbformat": 4,
 "nbformat_minor": 2
}
