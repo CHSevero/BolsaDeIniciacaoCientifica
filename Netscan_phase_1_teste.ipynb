{
 "cells": [
  {
   "cell_type": "code",
   "execution_count": 4,
   "metadata": {},
   "outputs": [],
   "source": [
    "# Criando a matriz de transições:\n",
    "import numpy as np\n",
    "m =np.zeros( (5,5),dtype=np.int32)"
   ]
  },
  {
   "cell_type": "code",
   "execution_count": 27,
   "metadata": {},
   "outputs": [],
   "source": [
    "m[0][0]  =0\n",
    "m[0][1]  =10\n",
    "m[0][2]  =10\n",
    "m[0][3]  =10\n",
    "m[0][4]  =12\n",
    "m[1][0]  =1\n",
    "m[1][1]  =0\n",
    "m[1][2]  =1\n",
    "m[1][3]  =10\n",
    "m[1][4]  =1\n",
    "m[2][0]  =1\n",
    "m[2][1]  =1\n",
    "m[2][2]  =0\n",
    "m[2][3]  =1\n",
    "m[2][4]  =1\n",
    "m[3][0]  =1\n",
    "m[3][1]  =10\n",
    "m[3][2]  =1\n",
    "m[3][3]  =0\n",
    "m[3][4]  =1\n",
    "m[4][0]  =10\n",
    "m[4][1]  =10\n",
    "m[4][2]  =10\n",
    "m[4][3]  =11\n",
    "m[4][4]  =0"
   ]
  },
  {
   "cell_type": "code",
   "execution_count": 22,
   "metadata": {},
   "outputs": [
    {
     "name": "stdout",
     "output_type": "stream",
     "text": [
      "[[ 0 10 10 10 11]\n",
      " [ 1  0  1 10  1]\n",
      " [ 1  1  0  1  1]\n",
      " [ 1 10  1  0  1]\n",
      " [10 10 10 11  0]]\n"
     ]
    }
   ],
   "source": [
    "print(m)"
   ]
  },
  {
   "cell_type": "code",
   "execution_count": 24,
   "metadata": {},
   "outputs": [],
   "source": [
    "dicionario2=dict()\n",
    "for i in range(0,5):\n",
    "    dicionario2[i]=i\n",
    "dicionario3=dict()\n",
    "for i in range(0,5):\n",
    "    for j in range(0,5):\n",
    "        dicionario3[(i,j)] = (i,j)"
   ]
  },
  {
   "cell_type": "code",
   "execution_count": 8,
   "metadata": {},
   "outputs": [],
   "source": [
    "def not_marked(m,a):\n",
    "    for n in m:\n",
    "        for i in n:\n",
    "            if i > 0 and i>=a:\n",
    "                return True\n",
    "    return False\n",
    "\n",
    "def maximo(m,c):\n",
    "    l=0\n",
    "    f=0\n",
    "    for i in range(0,c):\n",
    "        for j in range(0,c):\n",
    "            if m[i][j]>m[l][f]:\n",
    "                l=i\n",
    "                f=j\n",
    "    return [l,f]\n",
    "\n",
    "def marking(a):\n",
    "    if a>0:\n",
    "        return -1*a\n",
    "    return a\n",
    "\n",
    "def not_marked_2(m,d,f,a,e,c):\n",
    "    u=-1\n",
    "    minimo=100000\n",
    "    for i in range(0,c):\n",
    "        if m[f][i]>=a:\n",
    "            t = m[d][f]\n",
    "            if t<0:\n",
    "                t=t*(-1)\n",
    "            if abs(t-m[f][i]) < minimo and abs(t-m[f][i])<=e:\n",
    "                minimo = abs(t-m[f][i])\n",
    "                u=i\n",
    "    return u\n",
    "\n",
    "def not_marked_3(m,d,f,a,e,c):\n",
    "    u=-1\n",
    "    minimo=1000000\n",
    "    for i in range(0,c):\n",
    "        if m[i][d]>=a:\n",
    "            t = m[d][f]\n",
    "            if t<0:\n",
    "                t=t*(-1)\n",
    "            if abs(t-m[u][d])<minimo and abs(t-m[u][d])<=e:\n",
    "                minimo=abs(t-m[u][d])\n",
    "                u=i\n",
    "    return u"
   ]
  },
  {
   "cell_type": "code",
   "execution_count": 36,
   "metadata": {},
   "outputs": [],
   "source": [
    "def netscan_phase_1(dicionario3,c,dicionario2,m,e,a):\n",
    "    O=set()\n",
    "    k=0\n",
    "    C=list()\n",
    "    while not_marked(m,a):\n",
    "        indices=maximo(m,c)\n",
    "        d=indices[0]\n",
    "        f=indices[1]\n",
    "        tupla=dicionario3[(d,f)]\n",
    "        Sd=dicionario2[tupla[0]]\n",
    "        print(\"Sd: \",Sd)\n",
    "        Sf=dicionario2[tupla[1]]\n",
    "        print(\"Sf: \",Sf)\n",
    "        C.append([Sd,Sf])\n",
    "        m[d][f]=marking(m[d][f])\n",
    "        u=not_marked_2(m,d,f,a,e,c)\n",
    "        while u>-1:\n",
    "            print(\"1\")\n",
    "            tupla=dicionario3[(f,u)]\n",
    "            Su=dicionario2[tupla[1]]\n",
    "            print(\"Su :\",Su)\n",
    "            C[k].append(Su)\n",
    "            m[f][u]=marking(m[f][u])\n",
    "            d=f\n",
    "            f=u\n",
    "            u=not_marked_2(m,d,f,a,e,c)\n",
    "        u=not_marked_3(m,d,f,a,e,c)\n",
    "        while u>-1:\n",
    "            print(\"2\")\n",
    "            tupla=dicionario3[(u,d)]\n",
    "            Su=dicionario2[tupla[0]]\n",
    "            print(\"Su :\",Su)\n",
    "            C[k] = [Su]+C[k]\n",
    "            m[u][d]=marking(m[u][d])\n",
    "            f=d\n",
    "            d=u\n",
    "            u=not_marked_3(m,d,f,a,e,c)\n",
    "        k=k+1\n",
    "    return C"
   ]
  },
  {
   "cell_type": "code",
   "execution_count": 38,
   "metadata": {},
   "outputs": [
    {
     "name": "stdout",
     "output_type": "stream",
     "text": [
      "Sd:  0\n",
      "Sf:  4\n",
      "1\n",
      "Su : 3\n",
      "1\n",
      "Su : 1\n",
      "1\n",
      "Su : 3\n",
      "2\n",
      "Su : 0\n",
      "2\n",
      "Su : 4\n",
      "Sd:  0\n",
      "Sf:  2\n",
      "Sd:  0\n",
      "Sf:  3\n",
      "Sd:  4\n",
      "Sf:  1\n",
      "Sd:  4\n",
      "Sf:  2\n"
     ]
    }
   ],
   "source": [
    "C=netscan_phase_1(dicionario3,5,dicionario2,m,2,10)"
   ]
  },
  {
   "cell_type": "code",
   "execution_count": 39,
   "metadata": {},
   "outputs": [
    {
     "name": "stdout",
     "output_type": "stream",
     "text": [
      "[[4, 0, 0, 4, 3, 1, 3], [0, 2], [0, 3], [4, 1], [4, 2]]\n"
     ]
    }
   ],
   "source": [
    "print(C)"
   ]
  },
  {
   "cell_type": "code",
   "execution_count": 37,
   "metadata": {},
   "outputs": [],
   "source": [
    "for i in range(0,5):\n",
    "    for j in range(0,5):\n",
    "        if m[i][j]<0:\n",
    "            m[i][j]= m[i][j]*(-1)"
   ]
  },
  {
   "cell_type": "code",
   "execution_count": 33,
   "metadata": {},
   "outputs": [
    {
     "name": "stdout",
     "output_type": "stream",
     "text": [
      "[[  0 -10 -10 -10 -12]\n",
      " [  1   0   1 -10   1]\n",
      " [  1   1   0   1   1]\n",
      " [  1 -10   1   0   1]\n",
      " [-10 -10 -10 -11   0]]\n"
     ]
    }
   ],
   "source": [
    "print(m)"
   ]
  },
  {
   "cell_type": "code",
   "execution_count": null,
   "metadata": {},
   "outputs": [],
   "source": []
  }
 ],
 "metadata": {
  "kernelspec": {
   "display_name": "Python 3",
   "language": "python",
   "name": "python3"
  },
  "language_info": {
   "codemirror_mode": {
    "name": "ipython",
    "version": 3
   },
   "file_extension": ".py",
   "mimetype": "text/x-python",
   "name": "python",
   "nbconvert_exporter": "python",
   "pygments_lexer": "ipython3",
   "version": "3.6.5"
  }
 },
 "nbformat": 4,
 "nbformat_minor": 2
}
