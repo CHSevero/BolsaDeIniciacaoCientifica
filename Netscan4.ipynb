{
 "cells": [
  {
   "cell_type": "code",
   "execution_count": 1,
   "metadata": {},
   "outputs": [],
   "source": [
    "import psycopg2\n",
    "# Connect to an existing database\n",
    "conn = psycopg2.connect(\"dbname='teste_03' user='postgres' host='localhost' password='severo' port='5432'\")\n",
    "\n",
    "# Open a cursor to perform database operations\n",
    "cur = conn.cursor()\n",
    "\n",
    "# Execute a command: this creates a new table\n",
    "cur.execute(\"select m.tid,m.time,m.edge_id,m.longitude,m.latitude from matched_tracks m order by m.tid,m.time;\")\n",
    "matched_tracks = cur.fetchall()\n",
    "cur.execute(\"select distinct edge_id,min(longitude),min(latitude) from matched_tracks group by edge_id order by edge_id asc;\")\n",
    "egde_ids = cur.fetchall()\n",
    "cur.execute(\"select i.tid,i.start_time,i.end_time,EXTRACT(EPOCH FROM (i.end_time::timestamp - i.start_time::timestamp)) from ib_stops_carlos i order by i.tid, start_time;\")\n",
    "stops = cur.fetchall()\n",
    "cur.execute(\"select min(m.longitude),min(m.latitude),max(m.latitude),max(m.longitude) from matched_tracks m;\")\n",
    "p =cur.fetchall()\n",
    "# Pass data to fill a query placeholders and let Psycopg perform\n",
    "# the correct conversion (no more SQL injections!)\n",
    "#>>> cur.execute(\"INSERT INTO test (num, data) VALUES (%s, %s)\",\n",
    "#...      (100, \"abc'def\"))\n",
    "\n",
    "# Query the database and obtain data as Python objects\n",
    "#>>> cur.execute(\"SELECT * FROM test;\")\n",
    "#>>> cur.fetchone()\n",
    "#(1, 100, \"abc'def\")\n",
    "\n",
    "# Make the changes to the database persistent\n",
    "#>>> conn.commit()\n",
    "\n",
    "# Close communication with the database\n",
    "cur.close()\n",
    "\n",
    "conn.close()"
   ]
  },
  {
   "cell_type": "code",
   "execution_count": 3,
   "metadata": {},
   "outputs": [],
   "source": [
    "# função que verificar se um ponto é um stop.\n",
    "def verifica(ponto,stops):\n",
    "    for stop in stops:\n",
    "        if ponto[0]==stop[0] and ponto[1]==stop[1]:\n",
    "            return stop[3]\n",
    "    return -1 \n",
    "pd = list()\n",
    "for i in p:\n",
    "    pd.extend(i)"
   ]
  },
  {
   "cell_type": "code",
   "execution_count": 4,
   "metadata": {},
   "outputs": [],
   "source": [
    "# Encrontando as trajetorias.\n",
    "trajetorias = list()\n",
    "trajetoria = list()\n",
    "taxi_id = 1\n",
    "\n",
    "for ponto in matched_tracks:\n",
    "    if ponto[0]==taxi_id:\n",
    "        diferenca=verifica([ponto[0],ponto[1]],stops)\n",
    "        if diferenca==-1:\n",
    "            trajetoria.append(ponto)\n",
    "        else:\n",
    "            trajetoria.append(ponto)\n",
    "            if diferenca > 120:\n",
    "                trajetorias.append(trajetoria)\n",
    "                trajetoria = list()\n",
    "    else:\n",
    "        trajetorias.append(trajetoria)\n",
    "        trajetoria = list()\n",
    "        trajetoria.append(ponto)\n",
    "        taxi_id=taxi_id+1     "
   ]
  },
  {
   "cell_type": "code",
   "execution_count": 5,
   "metadata": {},
   "outputs": [],
   "source": [
    "# Criando dicionário para mapeamento dos egde_ids para os indices da matriz m:\n",
    "dicionario1=dict()\n",
    "indice=0\n",
    "for egde_id in egde_ids:\n",
    "    dicionario1[egde_id[0]]=indice\n",
    "    indice=indice+1\n",
    "# Criando dicionário para o mapeamento dos indices da matriz para os egdes_ids:\n",
    "dicionario2 = dict()\n",
    "for i in egde_ids:\n",
    "    d=dicionario1[i[0]]\n",
    "    dicionario2[d]=i"
   ]
  },
  {
   "cell_type": "code",
   "execution_count": 6,
   "metadata": {},
   "outputs": [],
   "source": [
    "# Criando a matriz de transições:\n",
    "import numpy as np\n",
    "k=len(dicionario1)\n",
    "m =np.zeros( (k,k),dtype=np.int32)"
   ]
  },
  {
   "cell_type": "code",
   "execution_count": 7,
   "metadata": {},
   "outputs": [],
   "source": [
    "# Contando quantas transições exites de cada egde_id para outro:\n",
    "for traj in trajetorias:\n",
    "    c = len(traj)\n",
    "    for i in range(0,c-1):\n",
    "        if traj[i][2] != traj[i+1][2]:\n",
    "            d1=dicionario1[traj[i][2]]\n",
    "            d2=dicionario1[traj[i+1][2]]\n",
    "            m[d1][d2]=m[d1][d2]+1"
   ]
  },
  {
   "cell_type": "code",
   "execution_count": 8,
   "metadata": {},
   "outputs": [],
   "source": [
    "# Contando a quantidade de celulas não nulas.\n",
    "count=0\n",
    "for n in m:\n",
    "    for i in n:\n",
    "        if i!= 0:\n",
    "            count=count+1"
   ]
  },
  {
   "cell_type": "code",
   "execution_count": 9,
   "metadata": {},
   "outputs": [],
   "source": [
    "# Calculando as dimensões da matriz para mapeamento.\n",
    "import math\n",
    "raiz=math.ceil(math.sqrt(count))\n",
    "# Criando a matriz para o mapeamento.\n",
    "n =np.zeros( (raiz,raiz),dtype=np.int32)"
   ]
  },
  {
   "cell_type": "code",
   "execution_count": 10,
   "metadata": {},
   "outputs": [],
   "source": [
    "# Mapeamento de uma matriz para outra.\n",
    "dicionario3=dict()\n",
    "l=0\n",
    "c=0\n",
    "for i in range(0,k):\n",
    "    for j in range(0,k):\n",
    "        if m[i][j] !=0:\n",
    "            n[l][c]=m[i][j]\n",
    "            dicionario3[(l,c)]=(i,j)\n",
    "            c=c+1\n",
    "            if c==raiz:\n",
    "                c=0\n",
    "                l=l+1"
   ]
  },
  {
   "cell_type": "code",
   "execution_count": 11,
   "metadata": {},
   "outputs": [],
   "source": [
    "def not_marked(m,a):\n",
    "    for n in m:\n",
    "        for i in n:\n",
    "            if i > 0 and i>=a:\n",
    "                return True\n",
    "    return False\n",
    "\n",
    "def maximo(m,c):\n",
    "    l=0\n",
    "    f=0\n",
    "    for i in range(0,c):\n",
    "        for j in range(0,c):\n",
    "            if m[i][j]>m[l][f]:\n",
    "                l=i\n",
    "                f=j\n",
    "    return [l,f]\n",
    "\n",
    "def marking(a):\n",
    "    if a>0:\n",
    "        return -1*a\n",
    "    return a\n",
    "\n",
    "def not_marked_2(m,d,f,a,e,c):\n",
    "    u=-1\n",
    "    minimo=100000\n",
    "    for i in range(0,c):\n",
    "        if m[f][i]>=a:\n",
    "            t = m[d][f]\n",
    "            if t<0:\n",
    "                t=t*(-1)\n",
    "            if abs(t-m[f][i]) < minimo and abs(t-m[f][i])<=e:\n",
    "                minimo = abs(t-m[f][i])\n",
    "                u=i\n",
    "    return u\n",
    "\n",
    "def not_marked_3(m,d,f,a,e,c):\n",
    "    u=-1\n",
    "    minimo=1000000\n",
    "    for i in range(0,c):\n",
    "        if m[i][d]>=a:\n",
    "            t = m[d][f]\n",
    "            if t<0:\n",
    "                t=t*(-1)\n",
    "            if abs(t-m[u][d])<minimo and abs(t-m[u][d])<=e:\n",
    "                minimo=abs(t-m[u][d])\n",
    "                u=i\n",
    "    return u"
   ]
  },
  {
   "cell_type": "code",
   "execution_count": 12,
   "metadata": {},
   "outputs": [],
   "source": [
    "def netscan_phase_1(dicionario3,c,dicionario2,m,e,a):\n",
    "    O=set()\n",
    "    k=0\n",
    "    C=list()\n",
    "    while not_marked(m,a):\n",
    "        indices=maximo(m,c)\n",
    "        d=indices[0]\n",
    "        f=indices[1]\n",
    "        tupla=dicionario3[(d,f)]\n",
    "        Sd=dicionario2[tupla[0]]\n",
    "        Sf=dicionario2[tupla[1]]\n",
    "        C.append([Sd,Sf])\n",
    "        m[d][f]=marking(m[d][f])\n",
    "        u=not_marked_2(m,d,f,a,e,c)\n",
    "        while u>-1:\n",
    "            tupla=dicionario3[(f,u)]\n",
    "            Su=dicionario2[tupla[1]]\n",
    "            C[k].append(Su)\n",
    "            m[f][u]=marking(m[f][u])\n",
    "            d=f\n",
    "            f=u\n",
    "            u=not_marked_2(m,d,f,a,e,c)\n",
    "        u=not_marked_3(m,d,f,a,e,c)\n",
    "        while u>-1:\n",
    "            tupla=dicionario3[(u,d)]\n",
    "            Su=dicionario2[tupla[0]]\n",
    "            C[k] = [Su]+C[k]\n",
    "            m[u][d]=marking(m[u][d])\n",
    "            f=d\n",
    "            d=u\n",
    "            u=not_marked_3(m,d,f,a,e,c)\n",
    "        k=k+1\n",
    "    return C"
   ]
  },
  {
   "cell_type": "code",
   "execution_count": 13,
   "metadata": {},
   "outputs": [],
   "source": [
    "C=netscan_phase_1(dicionario3,raiz,dicionario2,n,1,15)"
   ]
  },
  {
   "cell_type": "code",
   "execution_count": 14,
   "metadata": {},
   "outputs": [],
   "source": [
    "def overlaps(tr,c):\n",
    "    for i in tr:\n",
    "        for j in c:\n",
    "            if i[2]==j[0]:\n",
    "                return True\n",
    "    return False\n",
    "\n",
    "def intersecao(c,tr):\n",
    "    i=0\n",
    "    j=0\n",
    "    Sc=list()\n",
    "    intersec=list()\n",
    "    while i<len(c):\n",
    "        while j<len(tr):\n",
    "            if c[i][0]==tr[j][2]:\n",
    "                #print(\"This is tr[\",j,\"] : \", tr[j])\n",
    "                intersec.append(tr[j])\n",
    "                i=i+1;\n",
    "                j=j+1;\n",
    "                if i>=len(c):\n",
    "                    if len(intersec)>0:\n",
    "                        Sc.extend(intersec)\n",
    "                    break\n",
    "            else:\n",
    "                j=j+1\n",
    "                if len(intersec)>0:\n",
    "                    Sc.extend(intersec)\n",
    "               # print(\"intersec\",intersec)\n",
    "                intersec=list()\n",
    "        if j>=len(tr):\n",
    "            break\n",
    "        i=i+1\n",
    "    return Sc\n",
    "\n",
    "def distancia(x1,y1,x2,y2):\n",
    "     return math.sqrt(math.pow(x1-x2,2)+math.pow(y1-y2,2))"
   ]
  },
  {
   "cell_type": "code",
   "execution_count": 15,
   "metadata": {},
   "outputs": [],
   "source": [
    "def netscan_phase2(O,traj,s):\n",
    "    Cluster=list()\n",
    "    count =0\n",
    "    for c in O:\n",
    "        clus = list()\n",
    "        for tr in traj:\n",
    "            Sc=list()\n",
    "            if overlaps(tr,c):\n",
    "                Sc = intersecao(c,tr)\n",
    "                if len(Sc) >0:\n",
    "                    count=count+1\n",
    "                    Lc = 0\n",
    "                    Lc = Lc + (distancia(Sc[0][3],Sc[0][4],Sc[len(Sc)-1][3],Sc[len(Sc)-1][4])/distancia(pd[0],pd[1],pd[2],pd[3]))\n",
    "                    Sim = Lc/(distancia(c[0][1],c[0][2],c[len(c)-1][1],c[len(c)-1][2])/distancia(pd[0],pd[1],pd[2],pd[3]))\n",
    "\n",
    "                    if Sim>=s:\n",
    "                        clus.extend(Sc)\n",
    "        if len(clus)>0:\n",
    "            Cluster.append(clus)\n",
    "        #break\n",
    "    print(count)\n",
    "    return Cluster"
   ]
  },
  {
   "cell_type": "code",
   "execution_count": 16,
   "metadata": {},
   "outputs": [
    {
     "name": "stdout",
     "output_type": "stream",
     "text": [
      "1806\n"
     ]
    }
   ],
   "source": [
    "T = netscan_phase2(C,trajetorias,0.5)"
   ]
  },
  {
   "cell_type": "code",
   "execution_count": 70,
   "metadata": {},
   "outputs": [
    {
     "name": "stdout",
     "output_type": "stream",
     "text": [
      "[[ 2  2  2 ...  7  1  8]\n",
      " [ 1  1 13 ...  7  6  1]\n",
      " [ 8  1  2 ...  3  1  3]\n",
      " ...\n",
      " [ 5  5  5 ...  1  1  1]\n",
      " [ 1  1  1 ...  0  0  0]\n",
      " [ 0  0  0 ...  0  0  0]]\n"
     ]
    }
   ],
   "source": [
    "for i in range(raiz):\n",
    "    for j in range(raiz):\n",
    "        if n[i][j]<0:\n",
    "            n[i][j]= -1*n[i][j]\n",
    "print(n)"
   ]
  },
  {
   "cell_type": "code",
   "execution_count": 17,
   "metadata": {},
   "outputs": [
    {
     "name": "stdout",
     "output_type": "stream",
     "text": [
      "111\n",
      "108\n",
      "(2, datetime.datetime(2008, 2, 3, 8, 24, 26, 73000), 23871, 116.448722216086, 39.9560374756762)\n",
      "(23871, 116.448722216086, 39.9560374756762)\n"
     ]
    }
   ],
   "source": [
    "print(len(C))\n",
    "print(len(T))\n",
    "print(T[0][0])\n",
    "print(C[0][0])"
   ]
  }
 ],
 "metadata": {
  "kernelspec": {
   "display_name": "Python 3",
   "language": "python",
   "name": "python3"
  },
  "language_info": {
   "codemirror_mode": {
    "name": "ipython",
    "version": 3
   },
   "file_extension": ".py",
   "mimetype": "text/x-python",
   "name": "python",
   "nbconvert_exporter": "python",
   "pygments_lexer": "ipython3",
   "version": "3.6.5"
  }
 },
 "nbformat": 4,
 "nbformat_minor": 2
}
