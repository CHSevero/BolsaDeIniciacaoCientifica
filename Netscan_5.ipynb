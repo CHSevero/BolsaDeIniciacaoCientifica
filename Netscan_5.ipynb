{
 "cells": [
  {
   "cell_type": "code",
   "execution_count": 2,
   "metadata": {},
   "outputs": [],
   "source": [
    "import psycopg2\n",
    "# Connect to an existing database\n",
    "conn = psycopg2.connect(\"dbname='bt' user='postgres' host='localhost' password='severo' port='5432'\")\n",
    "\n",
    "# Open a cursor to perform database operations\n",
    "cur = conn.cursor()\n",
    "\n",
    "# Execute a command: this creates a new table\n",
    "cur.execute(\"select m.tid,m.time,m.edge_id,m.longitude,m.latitude from matched_tracks m order by m.tid,m.time;\")\n",
    "matched_tracks = cur.fetchall()\n",
    "cur.execute(\"select distinct edge_id from matched_tracks group by edge_id order by edge_id asc;\")\n",
    "egde_ids = cur.fetchall()\n",
    "cur.execute(\"select i.tid,i.start_time,i.end_time,EXTRACT(EPOCH FROM (i.end_time::timestamp - i.start_time::timestamp)) from ib_stops_carlos i order by i.tid, start_time;\")\n",
    "stops = cur.fetchall()\n",
    "# Pass data to fill a query placeholders and let Psycopg perform\n",
    "# the correct conversion (no more SQL injections!)\n",
    "#>>> cur.execute(\"INSERT INTO test (num, data) VALUES (%s, %s)\",\n",
    "#...      (100, \"abc'def\"))\n",
    "\n",
    "# Query the database and obtain data as Python objects\n",
    "#>>> cur.execute(\"SELECT * FROM test;\")\n",
    "#>>> cur.fetchone()\n",
    "#(1, 100, \"abc'def\")\n",
    "\n",
    "# Make the changes to the database persistent\n",
    "#>>> conn.commit()\n",
    "\n",
    "# Close communication with the database\n",
    "cur.close()\n",
    "\n",
    "conn.close()"
   ]
  },
  {
   "cell_type": "code",
   "execution_count": 3,
   "metadata": {},
   "outputs": [],
   "source": [
    "# função que verificar se um ponto é um stop.\n",
    "def verifica(ponto,stops):\n",
    "    for stop in stops:\n",
    "        if ponto[0]==stop[0] and ponto[1]==stop[1]:\n",
    "            return stop[3]\n",
    "    return -1  "
   ]
  },
  {
   "cell_type": "code",
   "execution_count": 4,
   "metadata": {},
   "outputs": [],
   "source": [
    "# Encrontando as trajetorias.\n",
    "trajetorias = list()\n",
    "trajetoria = list()\n",
    "taxi_id = 1\n",
    "\n",
    "for ponto in matched_tracks:\n",
    "    if ponto[0]==taxi_id:\n",
    "        diferenca=verifica([ponto[0],ponto[1]],stops)\n",
    "        if diferenca==-1:\n",
    "            trajetoria.append(ponto)\n",
    "        else:\n",
    "            trajetoria.append(ponto)\n",
    "            if diferenca > 120:\n",
    "                trajetorias.append(trajetoria)\n",
    "                trajetoria = list()\n",
    "    else:\n",
    "        trajetorias.append(trajetoria)\n",
    "        trajetoria = list()\n",
    "        trajetoria.append(ponto)\n",
    "        taxi_id=taxi_id+1     "
   ]
  },
  {
   "cell_type": "code",
   "execution_count": 5,
   "metadata": {},
   "outputs": [],
   "source": [
    "# Criando dicionário para mapeamento dos egde_ids para os indices da matriz m:\n",
    "dicionario1=dict()\n",
    "indice=0\n",
    "for egde_id in egde_ids:\n",
    "    dicionario1[egde_id[0]]=indice\n",
    "    indice=indice+1\n",
    "# Criando dicionário para o mapeamento dos indices da matriz para os egdes_ids:\n",
    "dicionario2 = dict()\n",
    "for i in egde_ids:\n",
    "    d=dicionario1[i[0]]\n",
    "    dicionario2[d]=i[0]"
   ]
  },
  {
   "cell_type": "code",
   "execution_count": 6,
   "metadata": {},
   "outputs": [],
   "source": [
    "# Criando a matriz de transições:\n",
    "import numpy as np\n",
    "k=len(dicionario1)\n",
    "m =np.zeros( (k,k),dtype=np.int32)"
   ]
  },
  {
   "cell_type": "code",
   "execution_count": 8,
   "metadata": {},
   "outputs": [],
   "source": [
    "# Contando quantas transições exites de cada egde_id para outro:\n",
    "for traj in trajetorias:\n",
    "    c = len(traj)\n",
    "    for i in range(0,c-1):\n",
    "        if traj[i][2] != traj[i+1][2]:\n",
    "            d1=dicionario1[traj[i][2]]\n",
    "            d2=dicionario1[traj[i+1][2]]\n",
    "            m[d1][d2]=m[d1][d2]+1"
   ]
  },
  {
   "cell_type": "code",
   "execution_count": 9,
   "metadata": {},
   "outputs": [],
   "source": [
    "# Contando a quantidade de celulas não nulas.\n",
    "count=0\n",
    "for n in m:\n",
    "    for i in n:\n",
    "        if i!= 0:\n",
    "            count=count+1"
   ]
  },
  {
   "cell_type": "code",
   "execution_count": 10,
   "metadata": {},
   "outputs": [],
   "source": [
    "# Calculando as dimensões da matriz para mapeamento.\n",
    "import math\n",
    "raiz=math.ceil(math.sqrt(count))\n",
    "# Criando a matriz para o mapeamento.\n",
    "n =np.zeros( (raiz,raiz),dtype=np.int32)"
   ]
  },
  {
   "cell_type": "code",
   "execution_count": 11,
   "metadata": {},
   "outputs": [],
   "source": [
    "# Mapeamento de uma matriz para outra.\n",
    "dicionario3=dict()\n",
    "l=0\n",
    "c=0\n",
    "for i in range(0,k):\n",
    "    for j in range(0,k):\n",
    "        if m[i][j] !=0:\n",
    "            n[l][c]=m[i][j]\n",
    "            dicionario3[(l,c)]=(i,j)\n",
    "            c=c+1\n",
    "            if c==raiz:\n",
    "                c=0\n",
    "                l=l+1"
   ]
  },
  {
   "cell_type": "code",
   "execution_count": 12,
   "metadata": {},
   "outputs": [],
   "source": [
    "def not_marked(m,a):\n",
    "    for n in m:\n",
    "        for i in n:\n",
    "            if i > 0 and i>=a:\n",
    "                return True\n",
    "    return False\n",
    "\n",
    "def maximo(m,c):\n",
    "    l=0\n",
    "    f=0\n",
    "    for i in range(0,c):\n",
    "        for j in range(0,c):\n",
    "            if m[i][j]>m[l][f]:\n",
    "                l=i\n",
    "                f=j\n",
    "    return [l,f]\n",
    "\n",
    "def marking(a):\n",
    "    if a>0:\n",
    "        return -1*a\n",
    "    return a\n",
    "\n",
    "def not_marked_2(m,d,f,a,e,c):\n",
    "    u=-1\n",
    "    minimo=100000\n",
    "    for i in range(0,c):\n",
    "        if m[f][i]>=a:\n",
    "            t = m[d][f]\n",
    "            if t<0:\n",
    "                t=t*(-1)\n",
    "            if abs(t-m[f][i]) < minimo and abs(t-m[f][i])<=e:\n",
    "                minimo = abs(t-m[f][i])\n",
    "                u=i\n",
    "    return u\n",
    "\n",
    "def not_marked_3(m,d,f,a,e,c):\n",
    "    u=-1\n",
    "    minimo=1000000\n",
    "    for i in range(0,c):\n",
    "        if m[i][d]>=a:\n",
    "            t = m[d][f]\n",
    "            if t<0:\n",
    "                t=t*(-1)\n",
    "            if abs(t-m[u][d])<minimo and abs(t-m[u][d])<=e:\n",
    "                minimo=abs(t-m[u][d])\n",
    "                u=i\n",
    "    return u"
   ]
  },
  {
   "cell_type": "code",
   "execution_count": 14,
   "metadata": {},
   "outputs": [],
   "source": [
    "def netscan_phase_1(dicionario3,c,dicionario2,m,e,a):\n",
    "    O=set()\n",
    "    k=0\n",
    "    C=list()\n",
    "    while not_marked(m,a):\n",
    "        indices=maximo(m,c)\n",
    "        d=indices[0]\n",
    "        f=indices[1]\n",
    "        tupla=dicionario3[(d,f)]\n",
    "        Sd=dicionario2[tupla[0]]\n",
    "        Sf=dicionario2[tupla[1]]\n",
    "        C.append([Sd,Sf])\n",
    "        m[d][f]=marking(m[d][f])\n",
    "        u=not_marked_2(m,d,f,a,e,c)\n",
    "        while u>-1:\n",
    "            tupla=dicionario3[(f,u)]\n",
    "            Su=dicionario2[tupla[1]]\n",
    "            C[k].append(Su)\n",
    "            m[f][u]=marking(m[f][u])\n",
    "            d=f\n",
    "            f=u\n",
    "            u=not_marked_2(m,d,f,a,e,c)\n",
    "        u=not_marked_3(m,d,f,a,e,c)\n",
    "        while u>-1:\n",
    "            tupla=dicionario3[(u,d)]\n",
    "            Su=dicionario2[tupla[0]]\n",
    "            C[k] = [Su]+C[k]\n",
    "            m[u][d]=marking(m[u][d])\n",
    "            f=d\n",
    "            d=u\n",
    "            u=not_marked_3(m,d,f,a,e,c)\n",
    "        k=k+1\n",
    "    return C"
   ]
  },
  {
   "cell_type": "code",
   "execution_count": 15,
   "metadata": {},
   "outputs": [],
   "source": [
    "C=netscan_phase_1(dicionario3,raiz,dicionario2,n,10,3)"
   ]
  },
  {
   "cell_type": "code",
   "execution_count": 19,
   "metadata": {},
   "outputs": [
    {
     "name": "stdout",
     "output_type": "stream",
     "text": [
      "(1, datetime.datetime(2008, 2, 3, 0, 0, 29), 26934, 116.45539216225, 39.8830124709683)\n"
     ]
    }
   ],
   "source": [
    "print(trajetorias[0][0])"
   ]
  }
 ],
 "metadata": {
  "kernelspec": {
   "display_name": "Python 3",
   "language": "python",
   "name": "python3"
  },
  "language_info": {
   "codemirror_mode": {
    "name": "ipython",
    "version": 3
   },
   "file_extension": ".py",
   "mimetype": "text/x-python",
   "name": "python",
   "nbconvert_exporter": "python",
   "pygments_lexer": "ipython3",
   "version": "3.6.5"
  }
 },
 "nbformat": 4,
 "nbformat_minor": 2
}
